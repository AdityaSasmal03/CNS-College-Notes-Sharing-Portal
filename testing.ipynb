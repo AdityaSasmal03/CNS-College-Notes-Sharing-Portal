{
 "cells": [
  {
   "cell_type": "code",
   "execution_count": 2,
   "id": "f4d507bc",
   "metadata": {},
   "outputs": [
    {
     "data": {
      "text/plain": [
       "['config.ini']"
      ]
     },
     "execution_count": 2,
     "metadata": {},
     "output_type": "execute_result"
    }
   ],
   "source": [
    "import firebase_admin\n",
    "from firebase_admin import credentials, db\n",
    "import configparser\n",
    "config = configparser.ConfigParser()\n",
    "config.read('config.ini')"
   ]
  },
  {
   "cell_type": "code",
   "execution_count": 3,
   "id": "7f583bd6",
   "metadata": {},
   "outputs": [
    {
     "data": {
      "text/plain": [
       "<firebase_admin.App at 0x22c48cde3d0>"
      ]
     },
     "execution_count": 3,
     "metadata": {},
     "output_type": "execute_result"
    }
   ],
   "source": [
    "cred = credentials.Certificate(\"credentials.json\")\n",
    "firebase_admin.initialize_app(cred, {\"databaseURL\":config[\"firebase\"][\"database_url\"]})"
   ]
  },
  {
   "cell_type": "code",
   "execution_count": 10,
   "id": "80610ff7",
   "metadata": {},
   "outputs": [
    {
     "data": {
      "text/plain": [
       "{'GIFT': ''}"
      ]
     },
     "execution_count": 10,
     "metadata": {},
     "output_type": "execute_result"
    }
   ],
   "source": [
    "ref = db.reference('/')\n",
    "\n",
    "ref.get()"
   ]
  },
  {
   "cell_type": "code",
   "execution_count": 18,
   "id": "f9d9d854",
   "metadata": {},
   "outputs": [
    {
     "data": {
      "text/plain": [
       "{'users': 'ysers'}"
      ]
     },
     "execution_count": 18,
     "metadata": {},
     "output_type": "execute_result"
    }
   ],
   "source": [
    "db.reference('/').update({\"users\": \"ysers\"})\n",
    "\n",
    "ref = db.reference('/')\n",
    "ref.get()"
   ]
  },
  {
   "cell_type": "code",
   "execution_count": 20,
   "id": "141cd5b9",
   "metadata": {},
   "outputs": [],
   "source": [
    "ref = db.reference('/users').update({\"name\": \"John\"})"
   ]
  },
  {
   "cell_type": "code",
   "execution_count": 47,
   "id": "e6e4f1ec",
   "metadata": {},
   "outputs": [
    {
     "name": "stdout",
     "output_type": "stream",
     "text": [
      "data_for_html= [{'members': ['ALL'], 'groupname': 'GATE', 'created_by': 'ADMIN', 'created_on': '2025-04-14 12:18:44'}, {'members': ['CSE', 'ECE', 'EEE'], 'groupname': 'Hackathons', 'created_by': 'ADMIN', 'created_on': '2025-04-14 12:27:49'}]\n"
     ]
    }
   ],
   "source": [
    "ref = db.reference(\"/Gandhi_Institute_For_Technology\")\n",
    "x = ref.get().keys()\n",
    "data_for_html = []\n",
    "for i in x:\n",
    "    if(i == \"common\"):\n",
    "        d = ref.child(i).get()\n",
    "        dkeys = d.keys()\n",
    "        for j in dkeys:\n",
    "            da = ref.child(i).child(j).get()\n",
    "            # print(\"d=\",da[\"data\"])\n",
    "            members = [\"ALL\"] if da[\"data\"][\"members\"] == \"ALL\" else da[\"data\"][\"members\"]\n",
    "            groupname = da[\"data\"][\"groupname\"]\n",
    "            created_by = da[\"data\"][\"created_by\"]\n",
    "            created_on = da[\"data\"][\"created_on\"]\n",
    "            temp = {\n",
    "                \"members\": members,\n",
    "                \"groupname\": groupname,\n",
    "                \"created_by\": created_by,\n",
    "                \"created_on\": created_on\n",
    "            }\n",
    "            data_for_html.append(temp)\n",
    "            # print(\"members=\", members)\n",
    "print(\"data_for_html=\", data_for_html)"
   ]
  },
  {
   "cell_type": "code",
   "execution_count": 12,
   "id": "c3224c57",
   "metadata": {},
   "outputs": [
    {
     "name": "stdout",
     "output_type": "stream",
     "text": [
      "ind_for_html= [{'branch': 'cse-genius', 'groupname': 'cse-genius_6th_semester', 'created_by': 'ADMIN', 'created_on': '2025-04-14 13:33:59', 'semester': '6th'}, {'branch': 'cse brilliant', 'groupname': 'cse brilliant_8th_semester', 'created_by': 'ADMIN', 'created_on': '2025-04-14 13:36:14', 'semester': '8th'}, {'branch': 'cse-genius', 'groupname': 'cse-genius_8th_semester', 'created_by': 'ADMIN', 'created_on': '2025-04-14 12:16:27', 'semester': '8th'}]\n"
     ]
    }
   ],
   "source": [
    "ref = db.reference('/Gandhi_Institute_For_Technology')\n",
    "x = ref.get().keys()\n",
    "ind_for_html = []\n",
    "for i in x:\n",
    "    if(i == \"years\"):\n",
    "        d = ref.child(i).get()\n",
    "        dkeys = d.keys()\n",
    "        for j in dkeys:\n",
    "            da = ref.child(i).child(j).get()\n",
    "            dakeys = da.keys()\n",
    "            for k in dakeys:\n",
    "                data = ref.child(i).child(j).child(k).get()\n",
    "                data = data[\"data\"]\n",
    "                # print(\"d=\", data)\n",
    "\n",
    "                temp = {\n",
    "                    \"branch\": data[\"branch\"],\n",
    "                    \"groupname\": data[\"groupname\"],\n",
    "                    \"created_by\": data[\"created_by\"],\n",
    "                    \"created_on\": data[\"created_on\"],\n",
    "                    \"semester\": data[\"semester\"],\n",
    "                }\n",
    "\n",
    "                ind_for_html.append(temp)\n",
    "\n",
    "print(\"ind_for_html=\", ind_for_html)"
   ]
  },
  {
   "cell_type": "code",
   "execution_count": 19,
   "id": "487e8a5a",
   "metadata": {},
   "outputs": [
    {
     "name": "stdout",
     "output_type": "stream",
     "text": [
      "ind_for_html= [{'branch': 'bhaba', 'groupname': 'bhaba_1st_semester', 'created_by': 'ADMIN', 'created_on': '2025-04-14 14:03:45', 'semester': '1st'}, {'branch': 'khosla', 'groupname': 'khosla_1st_semester', 'created_by': 'ADMIN', 'created_on': '2025-04-14 14:03:39', 'semester': '1st'}]\n"
     ]
    }
   ],
   "source": [
    "ref = db.reference('/Gandhi_Institute_For_Technology')\n",
    "x = ref.get().keys()\n",
    "ind_for_html = []\n",
    "for i in x:\n",
    "    if(i == \"house\"):\n",
    "        d = ref.child(i).get()\n",
    "        dkeys = d.keys()\n",
    "        for j in dkeys:\n",
    "            da = ref.child(i).child(j).get()\n",
    "            dakeys = da.keys()\n",
    "            for k in dakeys:\n",
    "                data = ref.child(i).child(j).child(k).get()\n",
    "                data = data[\"data\"]\n",
    "                # print(\"d=\", data)\n",
    "\n",
    "                temp = {\n",
    "                    \"branch\": data[\"branch\"],\n",
    "                    \"groupname\": data[\"groupname\"],\n",
    "                    \"created_by\": data[\"created_by\"],\n",
    "                    \"created_on\": data[\"created_on\"],\n",
    "                    \"semester\": data[\"semester\"],\n",
    "                }\n",
    "\n",
    "                ind_for_html.append(temp)\n",
    "\n",
    "print(\"ind_for_html=\", ind_for_html)"
   ]
  },
  {
   "cell_type": "code",
   "execution_count": 19,
   "id": "86c90aa9",
   "metadata": {},
   "outputs": [
    {
     "name": "stdout",
     "output_type": "stream",
     "text": [
      "okd =  {'t1': {'teacher_id': 2, 'teacher_name': 'buri buri1'}, 't2': {'teacher_id': 2, 'teacher_name': 'buri buri1'}}\n",
      "new  {'t1': {'teacher_id': 2, 'teacher_name': 'buri buri1'}, 't2': {'teacher_id': 2, 'teacher_name': 'buri buri1'}, 't_teacherraid': {'teacher_id': 2, 'teacher_name': 'buri buri1'}}\n"
     ]
    }
   ],
   "source": [
    "ref = db.reference('/Gandhi_Institute_For_Technology/house/1st/test')\n",
    "print(\"okd = \",ref.get())\n",
    "\n",
    "ref.update({\n",
    "    \"t_teacherraid\":{\"teacher_id\":2,\n",
    "    \"teacher_name\":\"buri buri1\"}\n",
    "})\n",
    "\n",
    "print(\"new \",ref.get())"
   ]
  },
  {
   "cell_type": "code",
   "execution_count": 1,
   "id": "677da822",
   "metadata": {},
   "outputs": [],
   "source": [
    "import pandas as pd"
   ]
  },
  {
   "cell_type": "code",
   "execution_count": null,
   "id": "99d1a585",
   "metadata": {},
   "outputs": [
    {
     "name": "stdout",
     "output_type": "stream",
     "text": [
      "Index(['StudentName', 'Initials', 'Password', 'Branch', 'Semester'], dtype='object')\n",
      "Aarav Sharma\n",
      "S2021-\n",
      "pass1\n",
      "CSE-Genius\n",
      "1st\n",
      "---\n",
      "Priya Verma\n",
      "S2021-\n",
      "word2\n",
      "CSE-Genius\n",
      "1st\n",
      "---\n",
      "Rohan Patel\n",
      "S2021-\n",
      "key3\n",
      "CSE-Genius\n",
      "1st\n",
      "---\n",
      "Ananya Singh\n",
      "S2021-\n",
      "code4\n",
      "CSE-Genius\n",
      "1st\n",
      "---\n",
      "Vikram Kumar\n",
      "S2021-\n",
      "eng5\n",
      "CSE-Genius\n",
      "1st\n",
      "---\n",
      "Shreya Gupta\n",
      "S2021-\n",
      "math6\n",
      "CSE-Genius\n",
      "1st\n",
      "---\n",
      "Aditya Reddy\n",
      "S2021-\n",
      "phys7\n",
      "CSE-Genius\n",
      "1st\n",
      "---\n",
      "Neha Yadav\n",
      "S2021-\n",
      "bio8\n",
      "CSE-Genius\n",
      "1st\n",
      "---\n",
      "Siddharth Joshi\n",
      "S2021-\n",
      "arch9\n",
      "CSE-Genius\n",
      "1st\n",
      "---\n",
      "Kavya Menon\n",
      "S2021-\n",
      "des10\n",
      "CSE-Genius\n",
      "1st\n",
      "---\n",
      "Arjun Pillai\n",
      "S2021-\n",
      "anim11\n",
      "CSE-Genius\n",
      "1st\n",
      "---\n",
      "Deepika Choudhary\n",
      "S2021-\n",
      "jour12\n",
      "CSE-Genius\n",
      "1st\n",
      "---\n",
      "Sameer Khan\n",
      "S2021-\n",
      "mus13\n",
      "CSE-Genius\n",
      "1st\n",
      "---\n",
      "Tanvi Desai\n",
      "S2021-\n",
      "dan14\n",
      "CSE-Genius\n",
      "1st\n",
      "---\n",
      "Ishaan Malhotra\n",
      "S2021-\n",
      "dram15\n",
      "CSE-Genius\n",
      "1st\n",
      "---\n",
      "Sanjana Nair\n",
      "S2021-\n",
      "film16\n",
      "CSE-Genius\n",
      "1st\n",
      "---\n",
      "Rishabh Tiwari\n",
      "S2021-\n",
      "law17\n",
      "CSE-Genius\n",
      "1st\n",
      "---\n",
      "Anika Verma\n",
      "S2021-\n",
      "econ18\n",
      "CSE-Genius\n",
      "1st\n",
      "---\n",
      "Chirag Joshi\n",
      "S2021-\n",
      "poli19\n",
      "CSE-Genius\n",
      "1st\n",
      "---\n",
      "Meera Patel\n",
      "S2021-\n",
      "soc20\n",
      "CSE-Genius\n",
      "1st\n",
      "---\n",
      "Dhruv Sharma\n",
      "S2021-\n",
      "hist21\n",
      "CSE-Genius\n",
      "1st\n",
      "---\n",
      "Siya Singh\n",
      "S2021-\n",
      "geo22\n",
      "CSE-Genius\n",
      "1st\n",
      "---\n",
      "Vivaan Kumar\n",
      "S2021-\n",
      "psyc23\n",
      "CSE-Genius\n",
      "1st\n",
      "---\n",
      "Aisha Khan\n",
      "S2021-\n",
      "soc24\n",
      "CSE-Genius\n",
      "1st\n",
      "---\n",
      "Aryan Reddy\n",
      "S2021-\n",
      "phil25\n",
      "CSE-Genius\n",
      "1st\n",
      "---\n",
      "Kiara Gupta\n",
      "S2021-\n",
      "ling26\n",
      "CSE-Genius\n",
      "1st\n",
      "---\n",
      "Neil Yadav\n",
      "S2021-\n",
      "anth27\n",
      "CSE-Genius\n",
      "1st\n",
      "---\n",
      "Sara Joshi\n",
      "S2021-\n",
      "stat28\n",
      "CSE-Genius\n",
      "1st\n",
      "---\n",
      "Rohan Menon\n",
      "S2021-\n",
      "acc29\n",
      "CSE-Genius\n",
      "1st\n",
      "---\n",
      "Priya Pillai\n",
      "S2021-\n",
      "mark30\n",
      "CSE-Genius\n",
      "1st\n",
      "---\n",
      "Vikram Choudhary\n",
      "S2021-\n",
      "hr31\n",
      "CSE-Genius\n",
      "1st\n",
      "---\n",
      "Shreya Khan\n",
      "S2021-\n",
      "oper32\n",
      "CSE-Genius\n",
      "1st\n",
      "---\n",
      "Aditya Desai\n",
      "S2021-\n",
      "sup33\n",
      "CSE-Genius\n",
      "1st\n",
      "---\n",
      "Neha Malhotra\n",
      "S2021-\n",
      "tour34\n",
      "CSE-Genius\n",
      "1st\n",
      "---\n",
      "Siddharth Nair\n",
      "S2021-\n",
      "even35\n",
      "CSE-Genius\n",
      "1st\n",
      "---\n",
      "Kavya Tiwari\n",
      "S2021-\n",
      "fash36\n",
      "CSE-Genius\n",
      "1st\n",
      "---\n",
      "Arjun Verma\n",
      "S2021-\n",
      "art37\n",
      "CSE-Genius\n",
      "1st\n",
      "---\n",
      "Deepika Joshi\n",
      "S2021-\n",
      "musm38\n",
      "CSE-Genius\n",
      "1st\n",
      "---\n",
      "Sameer Patel\n",
      "S2021-\n",
      "cine39\n",
      "CSE-Genius\n",
      "1st\n",
      "---\n",
      "Tanvi Singh\n",
      "S2021-\n",
      "scr40\n",
      "CSE-Genius\n",
      "1st\n",
      "---\n",
      "Ishaan Kumar\n",
      "S2021-\n",
      "act41\n",
      "CSE-Genius\n",
      "1st\n",
      "---\n",
      "Sanjana Reddy\n",
      "S2021-\n",
      "phot42\n",
      "CSE-Genius\n",
      "1st\n",
      "---\n",
      "Rishabh Gupta\n",
      "S2021-\n",
      "graph43\n",
      "CSE-Genius\n",
      "1st\n",
      "---\n",
      "Anika Khan\n",
      "S2021-\n",
      "inter44\n",
      "CSE-Genius\n",
      "1st\n",
      "---\n",
      "Chirag Verma\n",
      "S2021-\n",
      "prod45\n",
      "CSE-Genius\n",
      "1st\n",
      "---\n",
      "Meera Joshi\n",
      "S2021-\n",
      "soft46\n",
      "CSE-Genius\n",
      "1st\n",
      "---\n",
      "Dhruv Patel\n",
      "S2021-\n",
      "net47\n",
      "CSE-Genius\n",
      "1st\n",
      "---\n",
      "Siya Reddy\n",
      "S2021-\n",
      "data48\n",
      "CSE-Genius\n",
      "1st\n",
      "---\n",
      "Vivaan Gupta\n",
      "S2021-\n",
      "cyber49\n",
      "CSE-Genius\n",
      "1st\n",
      "---\n",
      "Aisha Joshi\n",
      "S2021-\n",
      "intel50\n",
      "CSE-Genius\n",
      "1st\n",
      "---\n"
     ]
    }
   ],
   "source": [
    "# \"D:\\study\\cse-genius-dummy-sheet.xlsx\" main\n",
    "# \"D:\\study\\QA daily sheet.xlsx\"\n",
    "df = pd.read_excel(\"D:\\study\\cse-genius-dummy-sheet.xlsx\")\n",
    "\n",
    "columns = df.columns\n",
    "print(columns)\n",
    "\n",
    "validators = ['StudentName', 'Initials', 'Password', 'Branch', 'Semester']\n",
    "initials = [\"S2021-\", \"S2022-\", \"S2023-\", \"S2024-\", \"S2025-\", \"S2026-\", \"S2027-\", \"S2028-\", \"S2029-\"]\n",
    "\n",
    "for cols in columns:\n",
    "    if cols not in validators:\n",
    "        print(\"wrong data format\")\n",
    "        break\n",
    "\n",
    "for _,row in df.iterrows():\n",
    "    for i in validators:\n",
    "        print(row[i])\n",
    "    print(\"---\")\n"
   ]
  },
  {
   "cell_type": "code",
   "execution_count": 3,
   "id": "6a847d18",
   "metadata": {},
   "outputs": [
    {
     "data": {
      "text/plain": [
       "[{'Groupname': 'GATE', 'ID': 3, 'Teachername': 'Teacher1', 'can_upload': True}]"
      ]
     },
     "execution_count": 3,
     "metadata": {},
     "output_type": "execute_result"
    }
   ],
   "source": [
    "common_ref = db.reference(f\"/Gandhi_Institute_For_Technology/common/GATE\")\n",
    "d = common_ref.get()\n",
    "\n",
    "teachers = []\n",
    "\n",
    "for teach in d.keys():\n",
    "    if(teach != 'data' and teach != 'content'):\n",
    "        teachers.append(d[teach])\n",
    "\n",
    "teachers"
   ]
  },
  {
   "cell_type": "code",
   "execution_count": null,
   "id": "2872f163",
   "metadata": {},
   "outputs": [
    {
     "name": "stdout",
     "output_type": "stream",
     "text": [
      "===\n",
      "===\n"
     ]
    }
   ],
   "source": [
    "parent_url = f\"/Gandhi_Institute_For_Technology/house\"\n",
    "ref = db.reference(parent_url)\n",
    "go_inside_sem = ref.get()\n",
    "\n",
    "for s in go_inside_sem.keys():\n",
    "    new_parent = parent_url + f\"/{s}\"\n",
    "    ref1 = db.reference(new_parent)\n",
    "    go_inside_branch = ref1.get()\n",
    "\n",
    "    for b in go_inside_branch.keys():\n",
    "        for keys in go_inside_branch[b].keys():\n",
    "            if (keys != \"CR\" and keys!= \"data\"):\n",
    "                new_parent1 = new_parent + f\"/{b}/{keys}\"\n",
    "                ref2 = db.reference(new_parent1)\n",
    "                cont = ref2.push()\n",
    "                cont.set({\n",
    "                    \"test\":\"buri\"\n",
    "                })\n",
    "        print(\"===\")\n",
    "\n",
    "# THIS LOGIC CAN BE USED TO PUSH CONTENT"
   ]
  },
  {
   "cell_type": "code",
   "execution_count": 21,
   "id": "a3dc9d8d",
   "metadata": {},
   "outputs": [
    {
     "name": "stdout",
     "output_type": "stream",
     "text": [
      "===\n",
      "Teacher1\n",
      "hello\n",
      "Teacher2\n",
      "===\n"
     ]
    }
   ],
   "source": [
    "parent_url = f\"/Gandhi_Institute_For_Technology/house\"\n",
    "ref = db.reference(parent_url)\n",
    "go_inside_sem = ref.get()\n",
    "\n",
    "t = \"Teacher1\"\n",
    "\n",
    "for s in go_inside_sem.keys():\n",
    "    new_parent = parent_url + f\"/{s}\"\n",
    "    ref1 = db.reference(new_parent)\n",
    "    go_inside_branch = ref1.get()\n",
    "\n",
    "    for b in go_inside_branch.keys():\n",
    "        for keys in go_inside_branch[b].keys():\n",
    "            if (keys != \"CR\" and keys!= \"data\"):\n",
    "                print(go_inside_branch[b][keys][\"teacher_name\"])\n",
    "                if t == go_inside_branch[b][keys][\"teacher_name\"]:\n",
    "                    print(\"hello\")\n",
    "        print(\"===\")"
   ]
  },
  {
   "cell_type": "code",
   "execution_count": null,
   "id": "088e46a6",
   "metadata": {},
   "outputs": [
    {
     "name": "stdout",
     "output_type": "stream",
     "text": [
      "===\n",
      "===\n",
      "Teacher1\n",
      "hello\n",
      "Teacher1\n",
      "hello\n",
      "===\n"
     ]
    }
   ],
   "source": [
    "parent_url_y = f\"/Gandhi_Institute_For_Technology/years\"\n",
    "ref = db.reference(parent_url)\n",
    "go_inside_sem = ref.get()\n",
    "\n",
    "t = \"Teacher1\"\n",
    "\n",
    "for s in go_inside_sem.keys():\n",
    "    new_parent = parent_url_y + f\"/{s}\"\n",
    "    ref1 = db.reference(new_parent)\n",
    "    go_inside_branch = ref1.get()\n",
    "\n",
    "    for b in go_inside_branch.keys():\n",
    "        for keys in go_inside_branch[b].keys():\n",
    "            if (keys != \"CR\" and keys!= \"data\"):\n",
    "                print(go_inside_branch[b][keys][\"teacher_name\"])\n",
    "                if t == go_inside_branch[b][keys][\"teacher_name\"]:\n",
    "                    print(\"hello\")\n",
    "        print(\"===\")"
   ]
  },
  {
   "cell_type": "code",
   "execution_count": 44,
   "id": "143373a7",
   "metadata": {},
   "outputs": [
    {
     "name": "stdout",
     "output_type": "stream",
     "text": [
      "{'branch': 'khosla', 'groupname': 'khosla_1st_semester', 'semester': '1st', 'subject': 'Applied physics', 'teacher_id': '3', 'teacher_name': 'Teacher1'}\n",
      "{'branch': 'cse-genius', 'groupname': 'cse-genius_8th_semester', 'semester': '8th', 'subject': 'Disaster management', 'teacher_id': '3', 'teacher_name': 'Teacher1'}\n",
      "{'branch': 'cse-genius', 'groupname': 'cse-genius_8th_semester', 'semester': '8th', 'subject': 'Software project management', 'teacher_id': '3', 'teacher_name': 'Teacher1'}\n"
     ]
    }
   ],
   "source": [
    "parent_url = f\"/Gandhi_Institute_For_Technology\"\n",
    "ref = db.reference(parent_url)\n",
    "noncoms = ref.get()\n",
    "\n",
    "t1 = \"Teacher1\"\n",
    "\n",
    "for t in noncoms.keys():\n",
    "    if (t != \"common\"):\n",
    "        n_parent_url = parent_url + f\"/{t}\"\n",
    "        r1 = db.reference(n_parent_url)\n",
    "        go_inside_sem = r1.get()\n",
    "        for s in go_inside_sem.keys():\n",
    "            n1_parent_url = n_parent_url + f\"/{s}\"\n",
    "            r2 = db.reference(n1_parent_url)\n",
    "\n",
    "            go_inside_branch = r2.get()\n",
    "            \n",
    "            for b in go_inside_branch.keys():\n",
    "                n2_parent_url = n1_parent_url + f\"/{b}\"\n",
    "                r3 = db.reference(n2_parent_url)\n",
    "\n",
    "                inside_each_branch = r3.get()\n",
    "                \n",
    "                for x in inside_each_branch.keys():\n",
    "                    if(x != \"CR\" and x != \"data\"):\n",
    "                        if inside_each_branch[x][\"teacher_name\"] == t1:\n",
    "                            print(inside_each_branch[x])"
   ]
  },
  {
   "cell_type": "code",
   "execution_count": null,
   "id": "e7ccf208",
   "metadata": {},
   "outputs": [],
   "source": [
    "                # for keys in go_inside_branch[b].keys():\n",
    "                #     if (keys != \"CR\" and keys!= \"data\"):\n",
    "                #         print(go_inside_branch[b][keys][\"teacher_name\"])\n",
    "                #         if t == go_inside_branch[b][keys][\"teacher_name\"]:\n",
    "                #             print(\"hello\")\n",
    "                # print(\"===\")"
   ]
  },
  {
   "cell_type": "code",
   "execution_count": 13,
   "id": "789e02c4",
   "metadata": {},
   "outputs": [
    {
     "data": {
      "text/plain": [
       "[{'branch': 'khosla',\n",
       "  'by': 'Teacher1',\n",
       "  'file_name': 'test_material_2025-04-22 20-24-24_khosla_1st_semester_Applied physics',\n",
       "  'fileid': '1z5EnuLg7JMxONXBhjGYEhw7aaOeBD_XE',\n",
       "  'group': 'khosla_1st_semester',\n",
       "  'link': 'https://drive.google.com/file/d/1z5EnuLg7JMxONXBhjGYEhw7aaOeBD_XE/view?usp=sharing',\n",
       "  'semester': '1st',\n",
       "  'subject': 'Applied physics',\n",
       "  'uploaded_on': '2025-04-22 20-24-24'},\n",
       " {'branch': 'khosla',\n",
       "  'by': 'Teacher1',\n",
       "  'file_name': 'new test1_2025-04-26 04-10-00_khosla_1st_semester_Applied physics',\n",
       "  'fileid': '1xII04-DQCc-v6_zTC-1ipzqSD2pfdJjo',\n",
       "  'group': 'khosla_1st_semester',\n",
       "  'link': 'https://drive.google.com/file/d/1xII04-DQCc-v6_zTC-1ipzqSD2pfdJjo/view?usp=sharing',\n",
       "  'semester': '1st',\n",
       "  'subject': 'Applied physics',\n",
       "  'uploaded_on': '2025-04-26 04-10-00'}]"
      ]
     },
     "execution_count": 13,
     "metadata": {},
     "output_type": "execute_result"
    }
   ],
   "source": [
    "main_par = \"/Gandhi_Institute_For_Technology\"\n",
    "construct_child_par = main_par + \"/house/1st/khosla/Applied physics/content\"\n",
    "\n",
    "ref = db.reference(construct_child_par)\n",
    "c = ref.get()\n",
    "total_files = []\n",
    "\n",
    "for keys in c.keys():\n",
    "    new_construct_child_par = construct_child_par + f\"/{keys}\"\n",
    "    r1 = db.reference(new_construct_child_par)\n",
    "    total_files.append(r1.get())\n",
    "\n",
    "total_files"
   ]
  },
  {
   "cell_type": "code",
   "execution_count": 3,
   "id": "4c2a7dac",
   "metadata": {},
   "outputs": [
    {
     "data": {
      "text/plain": [
       "{'Gandhi_Institute_For_Technology': {'common': {'GATE': {'Teacher1': {'Groupname': 'GATE',\n",
       "     'ID': 3,\n",
       "     'Teachername': 'Teacher1',\n",
       "     'can_upload': True},\n",
       "    'content': {'-OOIxl7OBwoPZs4o2yk-': {'by': 'Teacher1',\n",
       "      'file_name': 'GATE_Synopsis on CNS by Spandan Ku Swain_2025-04-20 21-40-13',\n",
       "      'fileid': '1sHP6mMtsj69Tv-ns_AI5TiqinsN6w2gI',\n",
       "      'group': 'GATE',\n",
       "      'link': 'https://drive.google.com/file/d/1sHP6mMtsj69Tv-ns_AI5TiqinsN6w2gI/view?usp=sharing',\n",
       "      'uploaded_on': '2025-04-20 21-40-13'}},\n",
       "    'data': {'created_by': 'ADMIN',\n",
       "     'created_on': '2025-04-14 12:18:44',\n",
       "     'groupname': 'GATE',\n",
       "     'members': 'ALL'}},\n",
       "   'Hackathons': {'data': {'created_by': 'ADMIN',\n",
       "     'created_on': '2025-04-14 12:27:49',\n",
       "     'groupname': 'Hackathons',\n",
       "     'members': ['CSE', 'ECE', 'EEE']}}},\n",
       "  'house': {'1st': {'khosla': {'Applied physics': {'branch': 'khosla',\n",
       "      'content': {'-OOSzZVl18rQh2k5ir6g': {'branch': 'khosla',\n",
       "        'by': 'Teacher1',\n",
       "        'file_name': 'test_material_2025-04-22 20-24-24_khosla_1st_semester_Applied physics',\n",
       "        'fileid': '1z5EnuLg7JMxONXBhjGYEhw7aaOeBD_XE',\n",
       "        'group': 'khosla_1st_semester',\n",
       "        'link': 'https://drive.google.com/file/d/1z5EnuLg7JMxONXBhjGYEhw7aaOeBD_XE/view?usp=sharing',\n",
       "        'semester': '1st',\n",
       "        'subject': 'Applied physics',\n",
       "        'uploaded_on': '2025-04-22 20-24-24'},\n",
       "       '-OOj5uxjQa5KGjyeltGy': {'branch': 'khosla',\n",
       "        'by': 'Teacher1',\n",
       "        'file_name': 'new test1_2025-04-26 04-10-00_khosla_1st_semester_Applied physics',\n",
       "        'fileid': '1xII04-DQCc-v6_zTC-1ipzqSD2pfdJjo',\n",
       "        'group': 'khosla_1st_semester',\n",
       "        'link': 'https://drive.google.com/file/d/1xII04-DQCc-v6_zTC-1ipzqSD2pfdJjo/view?usp=sharing',\n",
       "        'semester': '1st',\n",
       "        'subject': 'Applied physics',\n",
       "        'uploaded_on': '2025-04-26 04-10-00'}},\n",
       "      'groupname': 'khosla_1st_semester',\n",
       "      'semester': '1st',\n",
       "      'subject': 'Applied physics',\n",
       "      'teacher_id': '3',\n",
       "      'teacher_name': 'Teacher1'},\n",
       "     'CR': '2002',\n",
       "     'Programming in c': {'branch': 'khosla',\n",
       "      'groupname': 'khosla_1st_semester',\n",
       "      'semester': '1st',\n",
       "      'subject': 'Programming in c',\n",
       "      'teacher_id': '1003',\n",
       "      'teacher_name': 'Teacher2'},\n",
       "     'data': {'branch': 'khosla',\n",
       "      'created_by': 'ADMIN',\n",
       "      'created_on': '2025-04-14 14:03:39',\n",
       "      'groupname': 'khosla_1st_semester',\n",
       "      'semester': '1st'}}}},\n",
       "  'years': {'8th': {'cse brilliant': {'data': {'branch': 'cse brilliant',\n",
       "      'created_by': 'ADMIN',\n",
       "      'created_on': '2025-04-14 13:36:14',\n",
       "      'groupname': 'cse brilliant_8th_semester',\n",
       "      'semester': '8th'}},\n",
       "    'cse-genius': {'CR': '1002',\n",
       "     'Disaster management': {'branch': 'cse-genius',\n",
       "      'content': {'-OOjS6MDiTSJOTUJ5dwN': {'branch': 'cse-genius',\n",
       "        'by': 'Teacher1',\n",
       "        'file_name': 'ED basics_2025-04-26 05-46-58_cse-genius_8th_semester_Disaster management',\n",
       "        'fileid': '1rymS-kVAvlkPMic_umnZmPHZjwJdkdms',\n",
       "        'group': 'cse-genius_8th_semester',\n",
       "        'link': 'https://drive.google.com/file/d/1rymS-kVAvlkPMic_umnZmPHZjwJdkdms/view?usp=sharing',\n",
       "        'semester': '8th',\n",
       "        'subject': 'Disaster management',\n",
       "        'uploaded_on': '2025-04-26 05-46-58'},\n",
       "       '-OOjehvfd5HQwj0hwbJu': {'branch': 'cse-genius',\n",
       "        'by': 'Spandan Kumar Swain',\n",
       "        'file_name': 'Disastrous thing_2025-04-26 06-46-24_cse-genius_8th_semester_Disaster management',\n",
       "        'fileid': '1Ni0lYcgA_RABZCop2YgXyyo2NhbXY16w',\n",
       "        'group': 'cse-genius_8th_semester',\n",
       "        'link': 'https://drive.google.com/file/d/1Ni0lYcgA_RABZCop2YgXyyo2NhbXY16w/view?usp=sharing',\n",
       "        'semester': '8th',\n",
       "        'subject': 'Disaster management',\n",
       "        'uploaded_on': '2025-04-26 06-46-24'},\n",
       "       '-OOjt8PyTwCgax8FamEr': {'branch': 'cse-genius',\n",
       "        'by': 'Spandan Kumar Swain',\n",
       "        'file_name': 'GT handwritten_2025-04-26 07-49-11_cse-genius_8th_semester_Disaster management',\n",
       "        'fileid': '1pBXdqzQkMtwjUw-ED0T-ZMv8B4vw_WPL',\n",
       "        'group': 'cse-genius_8th_semester',\n",
       "        'link': 'https://drive.google.com/file/d/1pBXdqzQkMtwjUw-ED0T-ZMv8B4vw_WPL/view?usp=sharing',\n",
       "        'semester': '8th',\n",
       "        'subject': 'Disaster management',\n",
       "        'uploaded_on': '2025-04-26 07-49-11'}},\n",
       "      'groupname': 'cse-genius_8th_semester',\n",
       "      'semester': '8th',\n",
       "      'subject': 'Disaster management',\n",
       "      'teacher_id': '3',\n",
       "      'teacher_name': 'Teacher1'},\n",
       "     'Software project management': {'branch': 'cse-genius',\n",
       "      'groupname': 'cse-genius_8th_semester',\n",
       "      'semester': '8th',\n",
       "      'subject': 'Software project management',\n",
       "      'teacher_id': '3',\n",
       "      'teacher_name': 'Teacher1'},\n",
       "     'data': {'branch': 'cse-genius',\n",
       "      'created_by': 'ADMIN',\n",
       "      'created_on': '2025-04-14 12:16:27',\n",
       "      'groupname': 'cse-genius_8th_semester',\n",
       "      'semester': '8th'}}}}}}"
      ]
     },
     "execution_count": 3,
     "metadata": {},
     "output_type": "execute_result"
    }
   ],
   "source": [
    "ref = db.reference('/')\n",
    "ref.get()"
   ]
  },
  {
   "cell_type": "code",
   "execution_count": 2,
   "id": "1c511117",
   "metadata": {},
   "outputs": [],
   "source": [
    "import smtplib\n",
    "from email.message import EmailMessage\n",
    "\n",
    "def send_email_to_users(subject, body, recipient_list):\n",
    "    EMAIL_ADDRESS = \"spandanswain39s@gmail.com\"\n",
    "    EMAIL_PASSWORD = \"ernu siwy tvsc vulr\"\n",
    "\n",
    "    msg = EmailMessage()\n",
    "    msg['Subject'] = subject\n",
    "    msg['From'] = EMAIL_ADDRESS\n",
    "    msg['To'] = ', '.join(recipient_list)\n",
    "    msg.set_content(body)\n",
    "\n",
    "    with smtplib.SMTP_SSL('smtp.gmail.com', 465) as smtp:\n",
    "        smtp.login(EMAIL_ADDRESS, EMAIL_PASSWORD)\n",
    "        smtp.send_message(msg)\n",
    "\n",
    "# Example use (replace with actual email list)\n",
    "recipient_emails = [\"sambit2002dash@gmail.com\", \"spboss84@gmail.com\"]\n",
    "email_subject = \"New File Uploaded\"\n",
    "email_body = f\"A new file was uploaded by.\\n\\nLink:\"\n",
    "send_email_to_users(email_subject, email_body, recipient_emails)\n"
   ]
  },
  {
   "cell_type": "code",
   "execution_count": 21,
   "id": "8bc71c11",
   "metadata": {},
   "outputs": [
    {
     "name": "stdout",
     "output_type": "stream",
     "text": [
      "not this\n",
      "done\n",
      "not this\n"
     ]
    }
   ],
   "source": [
    "parent_url = f\"/Gandhi_Institute_For_Technology/years/8th/cse-genius/Disaster management/content\"\n",
    "ref = db.reference(parent_url)\n",
    "all_dict = ref.get()\n",
    "\n",
    "for k in all_dict.keys():\n",
    "    temp = parent_url + f\"/{k}\"\n",
    "    r1 = db.reference(temp)\n",
    "    temp = r1.get()\n",
    "    if temp[\"fileid\"] == \"10KAbhfIQWJi2t7TI2sZa9K5Twu-orRly\":        \n",
    "        r1.delete()\n",
    "        print(\"done\")\n",
    "    else:\n",
    "        print(\"not this\")"
   ]
  },
  {
   "cell_type": "code",
   "execution_count": null,
   "id": "182e2eeb",
   "metadata": {},
   "outputs": [],
   "source": [
    "# 1Ni0lYcgA_RABZCop2YgXyyo2NhbXY16w"
   ]
  }
 ],
 "metadata": {
  "kernelspec": {
   "display_name": ".venv",
   "language": "python",
   "name": "python3"
  },
  "language_info": {
   "codemirror_mode": {
    "name": "ipython",
    "version": 3
   },
   "file_extension": ".py",
   "mimetype": "text/x-python",
   "name": "python",
   "nbconvert_exporter": "python",
   "pygments_lexer": "ipython3",
   "version": "3.11.3"
  }
 },
 "nbformat": 4,
 "nbformat_minor": 5
}
